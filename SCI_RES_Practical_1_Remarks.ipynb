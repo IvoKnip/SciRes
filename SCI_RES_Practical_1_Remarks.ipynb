{
 "cells": [
  {
   "cell_type": "markdown",
   "id": "d1122f77",
   "metadata": {},
   "source": [
    "## Practical 1 - Additional information\n",
    "In the practical you have learned to open netCDF files, subset and aggregate data(in space and time), and visualise it. But probably you are not quite sure how you did it. In the beginning, R just seems to work magically - or not. Here is some additional information to help you understand how R works and the logic behind the processing. "
   ]
  },
  {
   "cell_type": "markdown",
   "id": "0c4e8261",
   "metadata": {},
   "source": [
    "### Object-oriented programming\n",
    "R is an object-oriented programming language. This means that you can store information as objects. You can then access it and use functions to manipulate an object. You can recognise functions by the () brackets. In the example we create an object \"vec\" with 5 random numbers and call the function max() on this object which gives us the largest number in the vector. "
   ]
  },
  {
   "cell_type": "code",
   "execution_count": 4,
   "id": "c3b2d9ec",
   "metadata": {},
   "outputs": [
    {
     "data": {
      "text/html": [
       "<ol class=list-inline>\n",
       "\t<li>6.87907754909247</li>\n",
       "\t<li>80.4691456258297</li>\n",
       "\t<li>74.8169021680951</li>\n",
       "\t<li>26.0762076359242</li>\n",
       "\t<li>74.3982957908884</li>\n",
       "</ol>\n"
      ],
      "text/latex": [
       "\\begin{enumerate*}\n",
       "\\item 6.87907754909247\n",
       "\\item 80.4691456258297\n",
       "\\item 74.8169021680951\n",
       "\\item 26.0762076359242\n",
       "\\item 74.3982957908884\n",
       "\\end{enumerate*}\n"
      ],
      "text/markdown": [
       "1. 6.87907754909247\n",
       "2. 80.4691456258297\n",
       "3. 74.8169021680951\n",
       "4. 26.0762076359242\n",
       "5. 74.3982957908884\n",
       "\n",
       "\n"
      ],
      "text/plain": [
       "[1]  6.879078 80.469146 74.816902 26.076208 74.398296"
      ]
     },
     "metadata": {},
     "output_type": "display_data"
    }
   ],
   "source": [
    "#install.packages(\"ncdf4\")\n",
    "vec <- runif(5, 0, 100)\n",
    "vec"
   ]
  },
  {
   "cell_type": "code",
   "execution_count": null,
   "id": "e57f82c5",
   "metadata": {},
   "outputs": [],
   "source": []
  },
  {
   "cell_type": "code",
   "execution_count": 5,
   "id": "4cc1a7db",
   "metadata": {},
   "outputs": [
    {
     "data": {
      "text/html": [
       "80.4691456258297"
      ],
      "text/latex": [
       "80.4691456258297"
      ],
      "text/markdown": [
       "80.4691456258297"
      ],
      "text/plain": [
       "[1] 80.46915"
      ]
     },
     "metadata": {},
     "output_type": "display_data"
    }
   ],
   "source": [
    "# largest number in object\n",
    "max(vec)"
   ]
  },
  {
   "cell_type": "markdown",
   "id": "cc6b1334",
   "metadata": {},
   "source": [
    "### Indexing\n",
    "A big part of the processing is accessing the information that your interested in. For example, you subsetted the ERA-5 temperature for the UK and calculated the monthly average temperatures. The process of accessing the parts of interest in an object is called indexing. There are multiple ways for indexing but they depend on the dimensions of the object."
   ]
  },
  {
   "cell_type": "markdown",
   "id": "02c9eb04",
   "metadata": {},
   "source": [
    "### 1D: Vector"
   ]
  },
  {
   "cell_type": "code",
   "execution_count": 8,
   "id": "60ab8a9c",
   "metadata": {},
   "outputs": [
    {
     "name": "stdout",
     "output_type": "stream",
     "text": [
      "[1] \"Vector:\"\n"
     ]
    },
    {
     "data": {
      "text/html": [
       "<ol class=list-inline>\n",
       "\t<li>6.87907754909247</li>\n",
       "\t<li>80.4691456258297</li>\n",
       "\t<li>74.8169021680951</li>\n",
       "\t<li>26.0762076359242</li>\n",
       "\t<li>74.3982957908884</li>\n",
       "</ol>\n"
      ],
      "text/latex": [
       "\\begin{enumerate*}\n",
       "\\item 6.87907754909247\n",
       "\\item 80.4691456258297\n",
       "\\item 74.8169021680951\n",
       "\\item 26.0762076359242\n",
       "\\item 74.3982957908884\n",
       "\\end{enumerate*}\n"
      ],
      "text/markdown": [
       "1. 6.87907754909247\n",
       "2. 80.4691456258297\n",
       "3. 74.8169021680951\n",
       "4. 26.0762076359242\n",
       "5. 74.3982957908884\n",
       "\n",
       "\n"
      ],
      "text/plain": [
       "[1]  6.879078 80.469146 74.816902 26.076208 74.398296"
      ]
     },
     "metadata": {},
     "output_type": "display_data"
    },
    {
     "name": "stdout",
     "output_type": "stream",
     "text": [
      "[1] \"First element of vector:\"\n"
     ]
    },
    {
     "data": {
      "text/html": [
       "6.87907754909247"
      ],
      "text/latex": [
       "6.87907754909247"
      ],
      "text/markdown": [
       "6.87907754909247"
      ],
      "text/plain": [
       "[1] 6.879078"
      ]
     },
     "metadata": {},
     "output_type": "display_data"
    }
   ],
   "source": [
    "# Value of first element in vector\n",
    "print(\"Vector:\")\n",
    "vec\n",
    "print(\"First element of vector:\")\n",
    "vec[1]"
   ]
  },
  {
   "cell_type": "code",
   "execution_count": 10,
   "id": "28fba3d0",
   "metadata": {},
   "outputs": [
    {
     "data": {
      "text/html": [
       "<ol class=list-inline>\n",
       "\t<li>6.87907754909247</li>\n",
       "\t<li>80.4691456258297</li>\n",
       "\t<li>74.8169021680951</li>\n",
       "</ol>\n"
      ],
      "text/latex": [
       "\\begin{enumerate*}\n",
       "\\item 6.87907754909247\n",
       "\\item 80.4691456258297\n",
       "\\item 74.8169021680951\n",
       "\\end{enumerate*}\n"
      ],
      "text/markdown": [
       "1. 6.87907754909247\n",
       "2. 80.4691456258297\n",
       "3. 74.8169021680951\n",
       "\n",
       "\n"
      ],
      "text/plain": [
       "[1]  6.879078 80.469146 74.816902"
      ]
     },
     "metadata": {},
     "output_type": "display_data"
    }
   ],
   "source": [
    "# assign the first 3 elements to a new vector\n",
    "new_vector <- vec[1:3]\n",
    "new_vector"
   ]
  },
  {
   "cell_type": "markdown",
   "id": "e8a8bea9",
   "metadata": {},
   "source": [
    "### 2D: Matrix\n",
    "The principles of indexing 2D data is similar, but we need to account for the second dimension. This is done by providing a second argument in the brackets - the position defines the row and the second the column."
   ]
  },
  {
   "cell_type": "code",
   "execution_count": 11,
   "id": "47c7f538",
   "metadata": {},
   "outputs": [
    {
     "data": {
      "text/html": [
       "<table>\n",
       "<tbody>\n",
       "\t<tr><td>11</td><td>18</td><td>16</td><td>26</td><td> 9</td><td>37</td><td>37</td><td> 5</td><td>10</td><td> 3</td></tr>\n",
       "\t<tr><td>39</td><td>11</td><td>35</td><td>32</td><td>34</td><td>36</td><td>28</td><td>49</td><td>37</td><td> 3</td></tr>\n",
       "\t<tr><td>39</td><td>49</td><td>30</td><td>41</td><td> 8</td><td>29</td><td> 3</td><td>14</td><td>24</td><td>33</td></tr>\n",
       "\t<tr><td> 6</td><td>19</td><td> 4</td><td>30</td><td>31</td><td>33</td><td>37</td><td>36</td><td>25</td><td>27</td></tr>\n",
       "\t<tr><td>47</td><td> 2</td><td>49</td><td>19</td><td>30</td><td>25</td><td>34</td><td>28</td><td>24</td><td>48</td></tr>\n",
       "\t<tr><td>16</td><td>45</td><td>21</td><td>14</td><td>27</td><td>29</td><td>23</td><td> 5</td><td>37</td><td>39</td></tr>\n",
       "\t<tr><td>37</td><td>14</td><td>28</td><td>46</td><td>43</td><td>31</td><td>50</td><td> 7</td><td>11</td><td>40</td></tr>\n",
       "\t<tr><td>41</td><td>14</td><td>30</td><td>22</td><td>13</td><td> 3</td><td>23</td><td>42</td><td>29</td><td>11</td></tr>\n",
       "\t<tr><td>17</td><td>27</td><td>32</td><td>23</td><td> 1</td><td>21</td><td>25</td><td>29</td><td>31</td><td>13</td></tr>\n",
       "\t<tr><td>18</td><td> 2</td><td>40</td><td>34</td><td>40</td><td>49</td><td>27</td><td> 8</td><td>34</td><td>43</td></tr>\n",
       "</tbody>\n",
       "</table>\n"
      ],
      "text/latex": [
       "\\begin{tabular}{llllllllll}\n",
       "\t 11 & 18 & 16 & 26 &  9 & 37 & 37 &  5 & 10 &  3\\\\\n",
       "\t 39 & 11 & 35 & 32 & 34 & 36 & 28 & 49 & 37 &  3\\\\\n",
       "\t 39 & 49 & 30 & 41 &  8 & 29 &  3 & 14 & 24 & 33\\\\\n",
       "\t  6 & 19 &  4 & 30 & 31 & 33 & 37 & 36 & 25 & 27\\\\\n",
       "\t 47 &  2 & 49 & 19 & 30 & 25 & 34 & 28 & 24 & 48\\\\\n",
       "\t 16 & 45 & 21 & 14 & 27 & 29 & 23 &  5 & 37 & 39\\\\\n",
       "\t 37 & 14 & 28 & 46 & 43 & 31 & 50 &  7 & 11 & 40\\\\\n",
       "\t 41 & 14 & 30 & 22 & 13 &  3 & 23 & 42 & 29 & 11\\\\\n",
       "\t 17 & 27 & 32 & 23 &  1 & 21 & 25 & 29 & 31 & 13\\\\\n",
       "\t 18 &  2 & 40 & 34 & 40 & 49 & 27 &  8 & 34 & 43\\\\\n",
       "\\end{tabular}\n"
      ],
      "text/markdown": [
       "\n",
       "| 11 | 18 | 16 | 26 |  9 | 37 | 37 |  5 | 10 |  3 |\n",
       "| 39 | 11 | 35 | 32 | 34 | 36 | 28 | 49 | 37 |  3 |\n",
       "| 39 | 49 | 30 | 41 |  8 | 29 |  3 | 14 | 24 | 33 |\n",
       "|  6 | 19 |  4 | 30 | 31 | 33 | 37 | 36 | 25 | 27 |\n",
       "| 47 |  2 | 49 | 19 | 30 | 25 | 34 | 28 | 24 | 48 |\n",
       "| 16 | 45 | 21 | 14 | 27 | 29 | 23 |  5 | 37 | 39 |\n",
       "| 37 | 14 | 28 | 46 | 43 | 31 | 50 |  7 | 11 | 40 |\n",
       "| 41 | 14 | 30 | 22 | 13 |  3 | 23 | 42 | 29 | 11 |\n",
       "| 17 | 27 | 32 | 23 |  1 | 21 | 25 | 29 | 31 | 13 |\n",
       "| 18 |  2 | 40 | 34 | 40 | 49 | 27 |  8 | 34 | 43 |\n",
       "\n"
      ],
      "text/plain": [
       "      [,1] [,2] [,3] [,4] [,5] [,6] [,7] [,8] [,9] [,10]\n",
       " [1,] 11   18   16   26    9   37   37    5   10    3   \n",
       " [2,] 39   11   35   32   34   36   28   49   37    3   \n",
       " [3,] 39   49   30   41    8   29    3   14   24   33   \n",
       " [4,]  6   19    4   30   31   33   37   36   25   27   \n",
       " [5,] 47    2   49   19   30   25   34   28   24   48   \n",
       " [6,] 16   45   21   14   27   29   23    5   37   39   \n",
       " [7,] 37   14   28   46   43   31   50    7   11   40   \n",
       " [8,] 41   14   30   22   13    3   23   42   29   11   \n",
       " [9,] 17   27   32   23    1   21   25   29   31   13   \n",
       "[10,] 18    2   40   34   40   49   27    8   34   43   "
      ]
     },
     "metadata": {},
     "output_type": "display_data"
    }
   ],
   "source": [
    "# create a 2D object \n",
    "matr <- matrix(data = round(runif(100, 1, 50), 0), ncol = 10, nrow = 10)\n",
    "matr"
   ]
  },
  {
   "cell_type": "code",
   "execution_count": 12,
   "id": "0c31245d",
   "metadata": {},
   "outputs": [
    {
     "data": {
      "text/html": [
       "<ol class=list-inline>\n",
       "\t<li>11</li>\n",
       "\t<li>18</li>\n",
       "\t<li>16</li>\n",
       "\t<li>26</li>\n",
       "\t<li>9</li>\n",
       "\t<li>37</li>\n",
       "\t<li>37</li>\n",
       "\t<li>5</li>\n",
       "\t<li>10</li>\n",
       "\t<li>3</li>\n",
       "</ol>\n"
      ],
      "text/latex": [
       "\\begin{enumerate*}\n",
       "\\item 11\n",
       "\\item 18\n",
       "\\item 16\n",
       "\\item 26\n",
       "\\item 9\n",
       "\\item 37\n",
       "\\item 37\n",
       "\\item 5\n",
       "\\item 10\n",
       "\\item 3\n",
       "\\end{enumerate*}\n"
      ],
      "text/markdown": [
       "1. 11\n",
       "2. 18\n",
       "3. 16\n",
       "4. 26\n",
       "5. 9\n",
       "6. 37\n",
       "7. 37\n",
       "8. 5\n",
       "9. 10\n",
       "10. 3\n",
       "\n",
       "\n"
      ],
      "text/plain": [
       " [1] 11 18 16 26  9 37 37  5 10  3"
      ]
     },
     "metadata": {},
     "output_type": "display_data"
    }
   ],
   "source": [
    "# Access the first row\n",
    "matr[1, ]"
   ]
  },
  {
   "cell_type": "code",
   "execution_count": 13,
   "id": "1f7ebbab",
   "metadata": {},
   "outputs": [
    {
     "data": {
      "text/html": [
       "<ol class=list-inline>\n",
       "\t<li>9</li>\n",
       "\t<li>34</li>\n",
       "\t<li>8</li>\n",
       "\t<li>31</li>\n",
       "\t<li>30</li>\n",
       "\t<li>27</li>\n",
       "\t<li>43</li>\n",
       "\t<li>13</li>\n",
       "\t<li>1</li>\n",
       "\t<li>40</li>\n",
       "</ol>\n"
      ],
      "text/latex": [
       "\\begin{enumerate*}\n",
       "\\item 9\n",
       "\\item 34\n",
       "\\item 8\n",
       "\\item 31\n",
       "\\item 30\n",
       "\\item 27\n",
       "\\item 43\n",
       "\\item 13\n",
       "\\item 1\n",
       "\\item 40\n",
       "\\end{enumerate*}\n"
      ],
      "text/markdown": [
       "1. 9\n",
       "2. 34\n",
       "3. 8\n",
       "4. 31\n",
       "5. 30\n",
       "6. 27\n",
       "7. 43\n",
       "8. 13\n",
       "9. 1\n",
       "10. 40\n",
       "\n",
       "\n"
      ],
      "text/plain": [
       " [1]  9 34  8 31 30 27 43 13  1 40"
      ]
     },
     "metadata": {},
     "output_type": "display_data"
    }
   ],
   "source": [
    "# Access the 5th column\n",
    "matr[, 5]"
   ]
  },
  {
   "cell_type": "code",
   "execution_count": 14,
   "id": "03844e78",
   "metadata": {},
   "outputs": [
    {
     "data": {
      "text/html": [
       "<table>\n",
       "<tbody>\n",
       "\t<tr><td>39</td><td>32</td></tr>\n",
       "\t<tr><td>39</td><td>41</td></tr>\n",
       "\t<tr><td> 6</td><td>30</td></tr>\n",
       "\t<tr><td>47</td><td>19</td></tr>\n",
       "</tbody>\n",
       "</table>\n"
      ],
      "text/latex": [
       "\\begin{tabular}{ll}\n",
       "\t 39 & 32\\\\\n",
       "\t 39 & 41\\\\\n",
       "\t  6 & 30\\\\\n",
       "\t 47 & 19\\\\\n",
       "\\end{tabular}\n"
      ],
      "text/markdown": [
       "\n",
       "| 39 | 32 |\n",
       "| 39 | 41 |\n",
       "|  6 | 30 |\n",
       "| 47 | 19 |\n",
       "\n"
      ],
      "text/plain": [
       "     [,1] [,2]\n",
       "[1,] 39   32  \n",
       "[2,] 39   41  \n",
       "[3,]  6   30  \n",
       "[4,] 47   19  "
      ]
     },
     "metadata": {},
     "output_type": "display_data"
    }
   ],
   "source": [
    "# Access row 2 to 5 of col 1 and 4\n",
    "matr[c(2:5), c(1,4)]"
   ]
  },
  {
   "cell_type": "markdown",
   "id": "7112354a",
   "metadata": {},
   "source": [
    "It's possible (and very helpful) to give names to rows and columns and index that data through the names."
   ]
  },
  {
   "cell_type": "code",
   "execution_count": 15,
   "id": "1ea2a05f",
   "metadata": {},
   "outputs": [
    {
     "data": {
      "text/html": [
       "<table>\n",
       "<thead><tr><th scope=col>A</th><th scope=col>B</th><th scope=col>C</th><th scope=col>D</th><th scope=col>E</th><th scope=col>F</th><th scope=col>G</th><th scope=col>H</th><th scope=col>I</th><th scope=col>J</th></tr></thead>\n",
       "<tbody>\n",
       "\t<tr><td>11</td><td>18</td><td>16</td><td>26</td><td> 9</td><td>37</td><td>37</td><td> 5</td><td>10</td><td> 3</td></tr>\n",
       "\t<tr><td>39</td><td>11</td><td>35</td><td>32</td><td>34</td><td>36</td><td>28</td><td>49</td><td>37</td><td> 3</td></tr>\n",
       "\t<tr><td>39</td><td>49</td><td>30</td><td>41</td><td> 8</td><td>29</td><td> 3</td><td>14</td><td>24</td><td>33</td></tr>\n",
       "\t<tr><td> 6</td><td>19</td><td> 4</td><td>30</td><td>31</td><td>33</td><td>37</td><td>36</td><td>25</td><td>27</td></tr>\n",
       "\t<tr><td>47</td><td> 2</td><td>49</td><td>19</td><td>30</td><td>25</td><td>34</td><td>28</td><td>24</td><td>48</td></tr>\n",
       "\t<tr><td>16</td><td>45</td><td>21</td><td>14</td><td>27</td><td>29</td><td>23</td><td> 5</td><td>37</td><td>39</td></tr>\n",
       "\t<tr><td>37</td><td>14</td><td>28</td><td>46</td><td>43</td><td>31</td><td>50</td><td> 7</td><td>11</td><td>40</td></tr>\n",
       "\t<tr><td>41</td><td>14</td><td>30</td><td>22</td><td>13</td><td> 3</td><td>23</td><td>42</td><td>29</td><td>11</td></tr>\n",
       "\t<tr><td>17</td><td>27</td><td>32</td><td>23</td><td> 1</td><td>21</td><td>25</td><td>29</td><td>31</td><td>13</td></tr>\n",
       "\t<tr><td>18</td><td> 2</td><td>40</td><td>34</td><td>40</td><td>49</td><td>27</td><td> 8</td><td>34</td><td>43</td></tr>\n",
       "</tbody>\n",
       "</table>\n"
      ],
      "text/latex": [
       "\\begin{tabular}{llllllllll}\n",
       " A & B & C & D & E & F & G & H & I & J\\\\\n",
       "\\hline\n",
       "\t 11 & 18 & 16 & 26 &  9 & 37 & 37 &  5 & 10 &  3\\\\\n",
       "\t 39 & 11 & 35 & 32 & 34 & 36 & 28 & 49 & 37 &  3\\\\\n",
       "\t 39 & 49 & 30 & 41 &  8 & 29 &  3 & 14 & 24 & 33\\\\\n",
       "\t  6 & 19 &  4 & 30 & 31 & 33 & 37 & 36 & 25 & 27\\\\\n",
       "\t 47 &  2 & 49 & 19 & 30 & 25 & 34 & 28 & 24 & 48\\\\\n",
       "\t 16 & 45 & 21 & 14 & 27 & 29 & 23 &  5 & 37 & 39\\\\\n",
       "\t 37 & 14 & 28 & 46 & 43 & 31 & 50 &  7 & 11 & 40\\\\\n",
       "\t 41 & 14 & 30 & 22 & 13 &  3 & 23 & 42 & 29 & 11\\\\\n",
       "\t 17 & 27 & 32 & 23 &  1 & 21 & 25 & 29 & 31 & 13\\\\\n",
       "\t 18 &  2 & 40 & 34 & 40 & 49 & 27 &  8 & 34 & 43\\\\\n",
       "\\end{tabular}\n"
      ],
      "text/markdown": [
       "\n",
       "| A | B | C | D | E | F | G | H | I | J |\n",
       "|---|---|---|---|---|---|---|---|---|---|\n",
       "| 11 | 18 | 16 | 26 |  9 | 37 | 37 |  5 | 10 |  3 |\n",
       "| 39 | 11 | 35 | 32 | 34 | 36 | 28 | 49 | 37 |  3 |\n",
       "| 39 | 49 | 30 | 41 |  8 | 29 |  3 | 14 | 24 | 33 |\n",
       "|  6 | 19 |  4 | 30 | 31 | 33 | 37 | 36 | 25 | 27 |\n",
       "| 47 |  2 | 49 | 19 | 30 | 25 | 34 | 28 | 24 | 48 |\n",
       "| 16 | 45 | 21 | 14 | 27 | 29 | 23 |  5 | 37 | 39 |\n",
       "| 37 | 14 | 28 | 46 | 43 | 31 | 50 |  7 | 11 | 40 |\n",
       "| 41 | 14 | 30 | 22 | 13 |  3 | 23 | 42 | 29 | 11 |\n",
       "| 17 | 27 | 32 | 23 |  1 | 21 | 25 | 29 | 31 | 13 |\n",
       "| 18 |  2 | 40 | 34 | 40 | 49 | 27 |  8 | 34 | 43 |\n",
       "\n"
      ],
      "text/plain": [
       "      A  B  C  D  E  F  G  H  I  J \n",
       " [1,] 11 18 16 26  9 37 37  5 10  3\n",
       " [2,] 39 11 35 32 34 36 28 49 37  3\n",
       " [3,] 39 49 30 41  8 29  3 14 24 33\n",
       " [4,]  6 19  4 30 31 33 37 36 25 27\n",
       " [5,] 47  2 49 19 30 25 34 28 24 48\n",
       " [6,] 16 45 21 14 27 29 23  5 37 39\n",
       " [7,] 37 14 28 46 43 31 50  7 11 40\n",
       " [8,] 41 14 30 22 13  3 23 42 29 11\n",
       " [9,] 17 27 32 23  1 21 25 29 31 13\n",
       "[10,] 18  2 40 34 40 49 27  8 34 43"
      ]
     },
     "metadata": {},
     "output_type": "display_data"
    }
   ],
   "source": [
    "colnames(matr) <- c(\"A\", \"B\", \"C\", \"D\", \"E\", \"F\", \"G\", \"H\", \"I\", \"J\")\n",
    "matr"
   ]
  },
  {
   "cell_type": "code",
   "execution_count": 16,
   "id": "6a3ae480",
   "metadata": {},
   "outputs": [
    {
     "data": {
      "text/html": [
       "<ol class=list-inline>\n",
       "\t<li>37</li>\n",
       "\t<li>36</li>\n",
       "\t<li>29</li>\n",
       "\t<li>33</li>\n",
       "\t<li>25</li>\n",
       "\t<li>29</li>\n",
       "\t<li>31</li>\n",
       "\t<li>3</li>\n",
       "\t<li>21</li>\n",
       "\t<li>49</li>\n",
       "</ol>\n"
      ],
      "text/latex": [
       "\\begin{enumerate*}\n",
       "\\item 37\n",
       "\\item 36\n",
       "\\item 29\n",
       "\\item 33\n",
       "\\item 25\n",
       "\\item 29\n",
       "\\item 31\n",
       "\\item 3\n",
       "\\item 21\n",
       "\\item 49\n",
       "\\end{enumerate*}\n"
      ],
      "text/markdown": [
       "1. 37\n",
       "2. 36\n",
       "3. 29\n",
       "4. 33\n",
       "5. 25\n",
       "6. 29\n",
       "7. 31\n",
       "8. 3\n",
       "9. 21\n",
       "10. 49\n",
       "\n",
       "\n"
      ],
      "text/plain": [
       " [1] 37 36 29 33 25 29 31  3 21 49"
      ]
     },
     "metadata": {},
     "output_type": "display_data"
    }
   ],
   "source": [
    "# column F\n",
    "matr[, \"F\"]"
   ]
  },
  {
   "cell_type": "markdown",
   "id": "b2acb9bb",
   "metadata": {},
   "source": [
    "A raster (and any image) is basically a matrix with spatial reference. So, to access the information at a certain location you just need to provide the row and column where it's stored. "
   ]
  },
  {
   "cell_type": "code",
   "execution_count": 17,
   "id": "039cd7a8",
   "metadata": {},
   "outputs": [
    {
     "name": "stderr",
     "output_type": "stream",
     "text": [
      "Loading required package: sp\n",
      "Warning message:\n",
      "\"package 'sp' was built under R version 3.6.3\""
     ]
    },
    {
     "data": {
      "image/png": "[encoded data removed]",
      "text/plain": [
       "Plot with title \"\""
      ]
     },
     "metadata": {},
     "output_type": "display_data"
    }
   ],
   "source": [
    "# Create a raster with 9 cells and values from 1 to 9 \n",
    "library(raster)\n",
    "r <- raster(ncol=3, nrow=3) # create empty raster\n",
    "r[] <- 1:ncell(r) # fill it with values\n",
    "plot(r) # have a quick look"
   ]
  },
  {
   "cell_type": "code",
   "execution_count": 18,
   "id": "07d8db6e",
   "metadata": {},
   "outputs": [
    {
     "data": {
      "text/html": [
       "<table>\n",
       "<tbody>\n",
       "\t<tr><td>1</td><td>2</td><td>3</td></tr>\n",
       "\t<tr><td>4</td><td>5</td><td>6</td></tr>\n",
       "\t<tr><td>7</td><td>8</td><td>9</td></tr>\n",
       "</tbody>\n",
       "</table>\n"
      ],
      "text/latex": [
       "\\begin{tabular}{lll}\n",
       "\t 1 & 2 & 3\\\\\n",
       "\t 4 & 5 & 6\\\\\n",
       "\t 7 & 8 & 9\\\\\n",
       "\\end{tabular}\n"
      ],
      "text/markdown": [
       "\n",
       "| 1 | 2 | 3 |\n",
       "| 4 | 5 | 6 |\n",
       "| 7 | 8 | 9 |\n",
       "\n"
      ],
      "text/plain": [
       "     [,1] [,2] [,3]\n",
       "[1,] 1    2    3   \n",
       "[2,] 4    5    6   \n",
       "[3,] 7    8    9   "
      ]
     },
     "metadata": {},
     "output_type": "display_data"
    }
   ],
   "source": [
    "# This is how the matrix of the raster looks\n",
    "r_matrix <- raster::as.matrix(r)\n",
    "r_matrix"
   ]
  },
  {
   "cell_type": "code",
   "execution_count": 19,
   "id": "339f3cff",
   "metadata": {},
   "outputs": [
    {
     "data": {
      "text/html": [
       "5"
      ],
      "text/latex": [
       "5"
      ],
      "text/markdown": [
       "5"
      ],
      "text/plain": [
       "[1] 5"
      ]
     },
     "metadata": {},
     "output_type": "display_data"
    }
   ],
   "source": [
    "# To access the centre cell value\n",
    "r_matrix[2,2]"
   ]
  },
  {
   "cell_type": "markdown",
   "id": "ead5e774",
   "metadata": {},
   "source": [
    "Raster have a spatial reference, so rather then indexing the position in the matrix we index the location. For this we create a point object with our location of interest and extract the raster value at the point location. Remember, you did this when you extracted the data of the UK and Durham. "
   ]
  },
  {
   "cell_type": "code",
   "execution_count": 20,
   "id": "1f50b479",
   "metadata": {},
   "outputs": [
    {
     "data": {
      "image/png": "[encoded data removed]",
      "text/plain": [
       "Plot with title \"\""
      ]
     },
     "metadata": {},
     "output_type": "display_data"
    }
   ],
   "source": [
    "pointCoordinate <- data.frame(0,0) #provide the coordinates of the met station\n",
    "colnames(pointCoordinate) <- c(\"lat\", \"long\")\n",
    "coordinates(pointCoordinate) = ~long+lat\n",
    "plot(r)\n",
    "plot(pointCoordinate, add = TRUE)"
   ]
  },
  {
   "cell_type": "code",
   "execution_count": 21,
   "id": "e0682e46",
   "metadata": {},
   "outputs": [
    {
     "data": {
      "text/html": [
       "5"
      ],
      "text/latex": [
       "5"
      ],
      "text/markdown": [
       "5"
      ],
      "text/plain": [
       "[1] 5"
      ]
     },
     "metadata": {},
     "output_type": "display_data"
    }
   ],
   "source": [
    "# Get the value at the point location\n",
    "extract(r, pointCoordinate)"
   ]
  },
  {
   "cell_type": "markdown",
   "id": "59889204",
   "metadata": {},
   "source": [
    "### 3D: Raster brick\n",
    "The netCDF data and raster bricks have a 3rd dimension - in this case time but it also could be additional variables (i.e. precipitation, evapotranspiration...). In this example, we index the 3rd dimension of the UK raster brick. Picture the data as a cube with 142 layers (time) of size 48x56 (XxY)."
   ]
  },
  {
   "cell_type": "code",
   "execution_count": 22,
   "id": "e1e5e79b",
   "metadata": {},
   "outputs": [
    {
     "name": "stderr",
     "output_type": "stream",
     "text": [
      "Loading required namespace: ncdf4\n",
      "Warning message in .rasterObjectFromCDF(x, type = objecttype, band = band, ...):\n",
      "\"\"level\" set to 1 (there are 2 levels)\""
     ]
    },
    {
     "data": {
      "text/html": [
       "<ol class=list-inline>\n",
       "\t<li>48</li>\n",
       "\t<li>56</li>\n",
       "\t<li>142</li>\n",
       "</ol>\n"
      ],
      "text/latex": [
       "\\begin{enumerate*}\n",
       "\\item 48\n",
       "\\item 56\n",
       "\\item 142\n",
       "\\end{enumerate*}\n"
      ],
      "text/markdown": [
       "1. 48\n",
       "2. 56\n",
       "3. 142\n",
       "\n",
       "\n"
      ],
      "text/plain": [
       "[1]  48  56 142"
      ]
     },
     "metadata": {},
     "output_type": "display_data"
    }
   ],
   "source": [
    "# Create raster brick like in the Handout\n",
    "setwd(\"F:/PhD/Work/Docs/Tutorial/2022/SCI_RES/Practical1_data\")\n",
    "temp_2m <- brick(\"ERA5_month_2010_2021.nc\")\n",
    "temp_degC <- temp_2m - 273.15\n",
    "temp_rotate <- rotate(temp_degC)\n",
    "extent <- c(-12, 2, 49, 61) # these are the bounding coordinates of the UK in degrees (xmin, xmax, ymin, ymax)\n",
    "r_brick <- crop(temp_rotate, extent)\n",
    "\n",
    "# Print the dimensions of the dataset\n",
    "dim(r_brick)"
   ]
  },
  {
   "cell_type": "markdown",
   "id": "77b36094",
   "metadata": {},
   "source": [
    "To access a certain time period (a slice of the cube) we can either access the position or the name of the slice. Anyhow it is good to get some idea about the slices first. "
   ]
  },
  {
   "cell_type": "code",
   "execution_count": 23,
   "id": "d3227148",
   "metadata": {},
   "outputs": [
    {
     "data": {
      "text/html": [
       "<ol class=list-inline>\n",
       "\t<li>'X2010.01.01.00.00.00'</li>\n",
       "\t<li>'X2010.02.01.00.00.00'</li>\n",
       "\t<li>'X2010.03.01.00.00.00'</li>\n",
       "\t<li>'X2010.04.01.01.00.00'</li>\n",
       "\t<li>'X2010.05.01.01.00.00'</li>\n",
       "\t<li>'X2010.06.01.01.00.00'</li>\n",
       "\t<li>'X2010.07.01.01.00.00'</li>\n",
       "\t<li>'X2010.08.01.01.00.00'</li>\n",
       "\t<li>'X2010.09.01.01.00.00'</li>\n",
       "\t<li>'X2010.10.01.01.00.00'</li>\n",
       "\t<li>'X2010.11.01.00.00.00'</li>\n",
       "\t<li>'X2010.12.01.00.00.00'</li>\n",
       "\t<li>'X2011.01.01.00.00.00'</li>\n",
       "\t<li>'X2011.02.01.00.00.00'</li>\n",
       "\t<li>'X2011.03.01.00.00.00'</li>\n",
       "\t<li>'X2011.04.01.01.00.00'</li>\n",
       "\t<li>'X2011.05.01.01.00.00'</li>\n",
       "\t<li>'X2011.06.01.01.00.00'</li>\n",
       "\t<li>'X2011.07.01.01.00.00'</li>\n",
       "\t<li>'X2011.08.01.01.00.00'</li>\n",
       "\t<li>'X2011.09.01.01.00.00'</li>\n",
       "\t<li>'X2011.10.01.01.00.00'</li>\n",
       "\t<li>'X2011.11.01.00.00.00'</li>\n",
       "\t<li>'X2011.12.01.00.00.00'</li>\n",
       "\t<li>'X2012.01.01.00.00.00'</li>\n",
       "\t<li>'X2012.02.01.00.00.00'</li>\n",
       "\t<li>'X2012.03.01.00.00.00'</li>\n",
       "\t<li>'X2012.04.01.01.00.00'</li>\n",
       "\t<li>'X2012.05.01.01.00.00'</li>\n",
       "\t<li>'X2012.06.01.01.00.00'</li>\n",
       "\t<li>'X2012.07.01.01.00.00'</li>\n",
       "\t<li>'X2012.08.01.01.00.00'</li>\n",
       "\t<li>'X2012.09.01.01.00.00'</li>\n",
       "\t<li>'X2012.10.01.01.00.00'</li>\n",
       "\t<li>'X2012.11.01.00.00.00'</li>\n",
       "\t<li>'X2012.12.01.00.00.00'</li>\n",
       "\t<li>'X2013.01.01.00.00.00'</li>\n",
       "\t<li>'X2013.02.01.00.00.00'</li>\n",
       "\t<li>'X2013.03.01.00.00.00'</li>\n",
       "\t<li>'X2013.04.01.01.00.00'</li>\n",
       "\t<li>'X2013.05.01.01.00.00'</li>\n",
       "\t<li>'X2013.06.01.01.00.00'</li>\n",
       "\t<li>'X2013.07.01.01.00.00'</li>\n",
       "\t<li>'X2013.08.01.01.00.00'</li>\n",
       "\t<li>'X2013.09.01.01.00.00'</li>\n",
       "\t<li>'X2013.10.01.01.00.00'</li>\n",
       "\t<li>'X2013.11.01.00.00.00'</li>\n",
       "\t<li>'X2013.12.01.00.00.00'</li>\n",
       "\t<li>'X2014.01.01.00.00.00'</li>\n",
       "\t<li>'X2014.02.01.00.00.00'</li>\n",
       "\t<li>'X2014.03.01.00.00.00'</li>\n",
       "\t<li>'X2014.04.01.01.00.00'</li>\n",
       "\t<li>'X2014.05.01.01.00.00'</li>\n",
       "\t<li>'X2014.06.01.01.00.00'</li>\n",
       "\t<li>'X2014.07.01.01.00.00'</li>\n",
       "\t<li>'X2014.08.01.01.00.00'</li>\n",
       "\t<li>'X2014.09.01.01.00.00'</li>\n",
       "\t<li>'X2014.10.01.01.00.00'</li>\n",
       "\t<li>'X2014.11.01.00.00.00'</li>\n",
       "\t<li>'X2014.12.01.00.00.00'</li>\n",
       "\t<li>'X2015.01.01.00.00.00'</li>\n",
       "\t<li>'X2015.02.01.00.00.00'</li>\n",
       "\t<li>'X2015.03.01.00.00.00'</li>\n",
       "\t<li>'X2015.04.01.01.00.00'</li>\n",
       "\t<li>'X2015.05.01.01.00.00'</li>\n",
       "\t<li>'X2015.06.01.01.00.00'</li>\n",
       "\t<li>'X2015.07.01.01.00.00'</li>\n",
       "\t<li>'X2015.08.01.01.00.00'</li>\n",
       "\t<li>'X2015.09.01.01.00.00'</li>\n",
       "\t<li>'X2015.10.01.01.00.00'</li>\n",
       "\t<li>'X2015.11.01.00.00.00'</li>\n",
       "\t<li>'X2015.12.01.00.00.00'</li>\n",
       "\t<li>'X2016.01.01.00.00.00'</li>\n",
       "\t<li>'X2016.02.01.00.00.00'</li>\n",
       "\t<li>'X2016.03.01.00.00.00'</li>\n",
       "\t<li>'X2016.04.01.01.00.00'</li>\n",
       "\t<li>'X2016.05.01.01.00.00'</li>\n",
       "\t<li>'X2016.06.01.01.00.00'</li>\n",
       "\t<li>'X2016.07.01.01.00.00'</li>\n",
       "\t<li>'X2016.08.01.01.00.00'</li>\n",
       "\t<li>'X2016.09.01.01.00.00'</li>\n",
       "\t<li>'X2016.10.01.01.00.00'</li>\n",
       "\t<li>'X2016.11.01.00.00.00'</li>\n",
       "\t<li>'X2016.12.01.00.00.00'</li>\n",
       "\t<li>'X2017.01.01.00.00.00'</li>\n",
       "\t<li>'X2017.02.01.00.00.00'</li>\n",
       "\t<li>'X2017.03.01.00.00.00'</li>\n",
       "\t<li>'X2017.04.01.01.00.00'</li>\n",
       "\t<li>'X2017.05.01.01.00.00'</li>\n",
       "\t<li>'X2017.06.01.01.00.00'</li>\n",
       "\t<li>'X2017.07.01.01.00.00'</li>\n",
       "\t<li>'X2017.08.01.01.00.00'</li>\n",
       "\t<li>'X2017.09.01.01.00.00'</li>\n",
       "\t<li>'X2017.10.01.01.00.00'</li>\n",
       "\t<li>'X2017.11.01.00.00.00'</li>\n",
       "\t<li>'X2017.12.01.00.00.00'</li>\n",
       "\t<li>'X2018.01.01.00.00.00'</li>\n",
       "\t<li>'X2018.02.01.00.00.00'</li>\n",
       "\t<li>'X2018.03.01.00.00.00'</li>\n",
       "\t<li>'X2018.04.01.01.00.00'</li>\n",
       "\t<li>'X2018.05.01.01.00.00'</li>\n",
       "\t<li>'X2018.06.01.01.00.00'</li>\n",
       "\t<li>'X2018.07.01.01.00.00'</li>\n",
       "\t<li>'X2018.08.01.01.00.00'</li>\n",
       "\t<li>'X2018.09.01.01.00.00'</li>\n",
       "\t<li>'X2018.10.01.01.00.00'</li>\n",
       "\t<li>'X2018.11.01.00.00.00'</li>\n",
       "\t<li>'X2018.12.01.00.00.00'</li>\n",
       "\t<li>'X2019.01.01.00.00.00'</li>\n",
       "\t<li>'X2019.02.01.00.00.00'</li>\n",
       "\t<li>'X2019.03.01.00.00.00'</li>\n",
       "\t<li>'X2019.04.01.01.00.00'</li>\n",
       "\t<li>'X2019.05.01.01.00.00'</li>\n",
       "\t<li>'X2019.06.01.01.00.00'</li>\n",
       "\t<li>'X2019.07.01.01.00.00'</li>\n",
       "\t<li>'X2019.08.01.01.00.00'</li>\n",
       "\t<li>'X2019.09.01.01.00.00'</li>\n",
       "\t<li>'X2019.10.01.01.00.00'</li>\n",
       "\t<li>'X2019.11.01.00.00.00'</li>\n",
       "\t<li>'X2019.12.01.00.00.00'</li>\n",
       "\t<li>'X2020.01.01.00.00.00'</li>\n",
       "\t<li>'X2020.02.01.00.00.00'</li>\n",
       "\t<li>'X2020.03.01.00.00.00'</li>\n",
       "\t<li>'X2020.04.01.01.00.00'</li>\n",
       "\t<li>'X2020.05.01.01.00.00'</li>\n",
       "\t<li>'X2020.06.01.01.00.00'</li>\n",
       "\t<li>'X2020.07.01.01.00.00'</li>\n",
       "\t<li>'X2020.08.01.01.00.00'</li>\n",
       "\t<li>'X2020.09.01.01.00.00'</li>\n",
       "\t<li>'X2020.10.01.01.00.00'</li>\n",
       "\t<li>'X2020.11.01.00.00.00'</li>\n",
       "\t<li>'X2020.12.01.00.00.00'</li>\n",
       "\t<li>'X2021.01.01.00.00.00'</li>\n",
       "\t<li>'X2021.02.01.00.00.00'</li>\n",
       "\t<li>'X2021.03.01.00.00.00'</li>\n",
       "\t<li>'X2021.04.01.01.00.00'</li>\n",
       "\t<li>'X2021.05.01.01.00.00'</li>\n",
       "\t<li>'X2021.06.01.01.00.00'</li>\n",
       "\t<li>'X2021.07.01.01.00.00'</li>\n",
       "\t<li>'X2021.08.01.01.00.00'</li>\n",
       "\t<li>'X2021.09.01.01.00.00'</li>\n",
       "\t<li>'X2021.10.01.01.00.00'</li>\n",
       "</ol>\n"
      ],
      "text/latex": [
       "\\begin{enumerate*}\n",
       "\\item 'X2010.01.01.00.00.00'\n",
       "\\item 'X2010.02.01.00.00.00'\n",
       "\\item 'X2010.03.01.00.00.00'\n",
       "\\item 'X2010.04.01.01.00.00'\n",
       "\\item 'X2010.05.01.01.00.00'\n",
       "\\item 'X2010.06.01.01.00.00'\n",
       "\\item 'X2010.07.01.01.00.00'\n",
       "\\item 'X2010.08.01.01.00.00'\n",
       "\\item 'X2010.09.01.01.00.00'\n",
       "\\item 'X2010.10.01.01.00.00'\n",
       "\\item 'X2010.11.01.00.00.00'\n",
       "\\item 'X2010.12.01.00.00.00'\n",
       "\\item 'X2011.01.01.00.00.00'\n",
       "\\item 'X2011.02.01.00.00.00'\n",
       "\\item 'X2011.03.01.00.00.00'\n",
       "\\item 'X2011.04.01.01.00.00'\n",
       "\\item 'X2011.05.01.01.00.00'\n",
       "\\item 'X2011.06.01.01.00.00'\n",
       "\\item 'X2011.07.01.01.00.00'\n",
       "\\item 'X2011.08.01.01.00.00'\n",
       "\\item 'X2011.09.01.01.00.00'\n",
       "\\item 'X2011.10.01.01.00.00'\n",
       "\\item 'X2011.11.01.00.00.00'\n",
       "\\item 'X2011.12.01.00.00.00'\n",
       "\\item 'X2012.01.01.00.00.00'\n",
       "\\item 'X2012.02.01.00.00.00'\n",
       "\\item 'X2012.03.01.00.00.00'\n",
       "\\item 'X2012.04.01.01.00.00'\n",
       "\\item 'X2012.05.01.01.00.00'\n",
       "\\item 'X2012.06.01.01.00.00'\n",
       "\\item 'X2012.07.01.01.00.00'\n",
       "\\item 'X2012.08.01.01.00.00'\n",
       "\\item 'X2012.09.01.01.00.00'\n",
       "\\item 'X2012.10.01.01.00.00'\n",
       "\\item 'X2012.11.01.00.00.00'\n",
       "\\item 'X2012.12.01.00.00.00'\n",
       "\\item 'X2013.01.01.00.00.00'\n",
       "\\item 'X2013.02.01.00.00.00'\n",
       "\\item 'X2013.03.01.00.00.00'\n",
       "\\item 'X2013.04.01.01.00.00'\n",
       "\\item 'X2013.05.01.01.00.00'\n",
       "\\item 'X2013.06.01.01.00.00'\n",
       "\\item 'X2013.07.01.01.00.00'\n",
       "\\item 'X2013.08.01.01.00.00'\n",
       "\\item 'X2013.09.01.01.00.00'\n",
       "\\item 'X2013.10.01.01.00.00'\n",
       "\\item 'X2013.11.01.00.00.00'\n",
       "\\item 'X2013.12.01.00.00.00'\n",
       "\\item 'X2014.01.01.00.00.00'\n",
       "\\item 'X2014.02.01.00.00.00'\n",
       "\\item 'X2014.03.01.00.00.00'\n",
       "\\item 'X2014.04.01.01.00.00'\n",
       "\\item 'X2014.05.01.01.00.00'\n",
       "\\item 'X2014.06.01.01.00.00'\n",
       "\\item 'X2014.07.01.01.00.00'\n",
       "\\item 'X2014.08.01.01.00.00'\n",
       "\\item 'X2014.09.01.01.00.00'\n",
       "\\item 'X2014.10.01.01.00.00'\n",
       "\\item 'X2014.11.01.00.00.00'\n",
       "\\item 'X2014.12.01.00.00.00'\n",
       "\\item 'X2015.01.01.00.00.00'\n",
       "\\item 'X2015.02.01.00.00.00'\n",
       "\\item 'X2015.03.01.00.00.00'\n",
       "\\item 'X2015.04.01.01.00.00'\n",
       "\\item 'X2015.05.01.01.00.00'\n",
       "\\item 'X2015.06.01.01.00.00'\n",
       "\\item 'X2015.07.01.01.00.00'\n",
       "\\item 'X2015.08.01.01.00.00'\n",
       "\\item 'X2015.09.01.01.00.00'\n",
       "\\item 'X2015.10.01.01.00.00'\n",
       "\\item 'X2015.11.01.00.00.00'\n",
       "\\item 'X2015.12.01.00.00.00'\n",
       "\\item 'X2016.01.01.00.00.00'\n",
       "\\item 'X2016.02.01.00.00.00'\n",
       "\\item 'X2016.03.01.00.00.00'\n",
       "\\item 'X2016.04.01.01.00.00'\n",
       "\\item 'X2016.05.01.01.00.00'\n",
       "\\item 'X2016.06.01.01.00.00'\n",
       "\\item 'X2016.07.01.01.00.00'\n",
       "\\item 'X2016.08.01.01.00.00'\n",
       "\\item 'X2016.09.01.01.00.00'\n",
       "\\item 'X2016.10.01.01.00.00'\n",
       "\\item 'X2016.11.01.00.00.00'\n",
       "\\item 'X2016.12.01.00.00.00'\n",
       "\\item 'X2017.01.01.00.00.00'\n",
       "\\item 'X2017.02.01.00.00.00'\n",
       "\\item 'X2017.03.01.00.00.00'\n",
       "\\item 'X2017.04.01.01.00.00'\n",
       "\\item 'X2017.05.01.01.00.00'\n",
       "\\item 'X2017.06.01.01.00.00'\n",
       "\\item 'X2017.07.01.01.00.00'\n",
       "\\item 'X2017.08.01.01.00.00'\n",
       "\\item 'X2017.09.01.01.00.00'\n",
       "\\item 'X2017.10.01.01.00.00'\n",
       "\\item 'X2017.11.01.00.00.00'\n",
       "\\item 'X2017.12.01.00.00.00'\n",
       "\\item 'X2018.01.01.00.00.00'\n",
       "\\item 'X2018.02.01.00.00.00'\n",
       "\\item 'X2018.03.01.00.00.00'\n",
       "\\item 'X2018.04.01.01.00.00'\n",
       "\\item 'X2018.05.01.01.00.00'\n",
       "\\item 'X2018.06.01.01.00.00'\n",
       "\\item 'X2018.07.01.01.00.00'\n",
       "\\item 'X2018.08.01.01.00.00'\n",
       "\\item 'X2018.09.01.01.00.00'\n",
       "\\item 'X2018.10.01.01.00.00'\n",
       "\\item 'X2018.11.01.00.00.00'\n",
       "\\item 'X2018.12.01.00.00.00'\n",
       "\\item 'X2019.01.01.00.00.00'\n",
       "\\item 'X2019.02.01.00.00.00'\n",
       "\\item 'X2019.03.01.00.00.00'\n",
       "\\item 'X2019.04.01.01.00.00'\n",
       "\\item 'X2019.05.01.01.00.00'\n",
       "\\item 'X2019.06.01.01.00.00'\n",
       "\\item 'X2019.07.01.01.00.00'\n",
       "\\item 'X2019.08.01.01.00.00'\n",
       "\\item 'X2019.09.01.01.00.00'\n",
       "\\item 'X2019.10.01.01.00.00'\n",
       "\\item 'X2019.11.01.00.00.00'\n",
       "\\item 'X2019.12.01.00.00.00'\n",
       "\\item 'X2020.01.01.00.00.00'\n",
       "\\item 'X2020.02.01.00.00.00'\n",
       "\\item 'X2020.03.01.00.00.00'\n",
       "\\item 'X2020.04.01.01.00.00'\n",
       "\\item 'X2020.05.01.01.00.00'\n",
       "\\item 'X2020.06.01.01.00.00'\n",
       "\\item 'X2020.07.01.01.00.00'\n",
       "\\item 'X2020.08.01.01.00.00'\n",
       "\\item 'X2020.09.01.01.00.00'\n",
       "\\item 'X2020.10.01.01.00.00'\n",
       "\\item 'X2020.11.01.00.00.00'\n",
       "\\item 'X2020.12.01.00.00.00'\n",
       "\\item 'X2021.01.01.00.00.00'\n",
       "\\item 'X2021.02.01.00.00.00'\n",
       "\\item 'X2021.03.01.00.00.00'\n",
       "\\item 'X2021.04.01.01.00.00'\n",
       "\\item 'X2021.05.01.01.00.00'\n",
       "\\item 'X2021.06.01.01.00.00'\n",
       "\\item 'X2021.07.01.01.00.00'\n",
       "\\item 'X2021.08.01.01.00.00'\n",
       "\\item 'X2021.09.01.01.00.00'\n",
       "\\item 'X2021.10.01.01.00.00'\n",
       "\\end{enumerate*}\n"
      ],
      "text/markdown": [
       "1. 'X2010.01.01.00.00.00'\n",
       "2. 'X2010.02.01.00.00.00'\n",
       "3. 'X2010.03.01.00.00.00'\n",
       "4. 'X2010.04.01.01.00.00'\n",
       "5. 'X2010.05.01.01.00.00'\n",
       "6. 'X2010.06.01.01.00.00'\n",
       "7. 'X2010.07.01.01.00.00'\n",
       "8. 'X2010.08.01.01.00.00'\n",
       "9. 'X2010.09.01.01.00.00'\n",
       "10. 'X2010.10.01.01.00.00'\n",
       "11. 'X2010.11.01.00.00.00'\n",
       "12. 'X2010.12.01.00.00.00'\n",
       "13. 'X2011.01.01.00.00.00'\n",
       "14. 'X2011.02.01.00.00.00'\n",
       "15. 'X2011.03.01.00.00.00'\n",
       "16. 'X2011.04.01.01.00.00'\n",
       "17. 'X2011.05.01.01.00.00'\n",
       "18. 'X2011.06.01.01.00.00'\n",
       "19. 'X2011.07.01.01.00.00'\n",
       "20. 'X2011.08.01.01.00.00'\n",
       "21. 'X2011.09.01.01.00.00'\n",
       "22. 'X2011.10.01.01.00.00'\n",
       "23. 'X2011.11.01.00.00.00'\n",
       "24. 'X2011.12.01.00.00.00'\n",
       "25. 'X2012.01.01.00.00.00'\n",
       "26. 'X2012.02.01.00.00.00'\n",
       "27. 'X2012.03.01.00.00.00'\n",
       "28. 'X2012.04.01.01.00.00'\n",
       "29. 'X2012.05.01.01.00.00'\n",
       "30. 'X2012.06.01.01.00.00'\n",
       "31. 'X2012.07.01.01.00.00'\n",
       "32. 'X2012.08.01.01.00.00'\n",
       "33. 'X2012.09.01.01.00.00'\n",
       "34. 'X2012.10.01.01.00.00'\n",
       "35. 'X2012.11.01.00.00.00'\n",
       "36. 'X2012.12.01.00.00.00'\n",
       "37. 'X2013.01.01.00.00.00'\n",
       "38. 'X2013.02.01.00.00.00'\n",
       "39. 'X2013.03.01.00.00.00'\n",
       "40. 'X2013.04.01.01.00.00'\n",
       "41. 'X2013.05.01.01.00.00'\n",
       "42. 'X2013.06.01.01.00.00'\n",
       "43. 'X2013.07.01.01.00.00'\n",
       "44. 'X2013.08.01.01.00.00'\n",
       "45. 'X2013.09.01.01.00.00'\n",
       "46. 'X2013.10.01.01.00.00'\n",
       "47. 'X2013.11.01.00.00.00'\n",
       "48. 'X2013.12.01.00.00.00'\n",
       "49. 'X2014.01.01.00.00.00'\n",
       "50. 'X2014.02.01.00.00.00'\n",
       "51. 'X2014.03.01.00.00.00'\n",
       "52. 'X2014.04.01.01.00.00'\n",
       "53. 'X2014.05.01.01.00.00'\n",
       "54. 'X2014.06.01.01.00.00'\n",
       "55. 'X2014.07.01.01.00.00'\n",
       "56. 'X2014.08.01.01.00.00'\n",
       "57. 'X2014.09.01.01.00.00'\n",
       "58. 'X2014.10.01.01.00.00'\n",
       "59. 'X2014.11.01.00.00.00'\n",
       "60. 'X2014.12.01.00.00.00'\n",
       "61. 'X2015.01.01.00.00.00'\n",
       "62. 'X2015.02.01.00.00.00'\n",
       "63. 'X2015.03.01.00.00.00'\n",
       "64. 'X2015.04.01.01.00.00'\n",
       "65. 'X2015.05.01.01.00.00'\n",
       "66. 'X2015.06.01.01.00.00'\n",
       "67. 'X2015.07.01.01.00.00'\n",
       "68. 'X2015.08.01.01.00.00'\n",
       "69. 'X2015.09.01.01.00.00'\n",
       "70. 'X2015.10.01.01.00.00'\n",
       "71. 'X2015.11.01.00.00.00'\n",
       "72. 'X2015.12.01.00.00.00'\n",
       "73. 'X2016.01.01.00.00.00'\n",
       "74. 'X2016.02.01.00.00.00'\n",
       "75. 'X2016.03.01.00.00.00'\n",
       "76. 'X2016.04.01.01.00.00'\n",
       "77. 'X2016.05.01.01.00.00'\n",
       "78. 'X2016.06.01.01.00.00'\n",
       "79. 'X2016.07.01.01.00.00'\n",
       "80. 'X2016.08.01.01.00.00'\n",
       "81. 'X2016.09.01.01.00.00'\n",
       "82. 'X2016.10.01.01.00.00'\n",
       "83. 'X2016.11.01.00.00.00'\n",
       "84. 'X2016.12.01.00.00.00'\n",
       "85. 'X2017.01.01.00.00.00'\n",
       "86. 'X2017.02.01.00.00.00'\n",
       "87. 'X2017.03.01.00.00.00'\n",
       "88. 'X2017.04.01.01.00.00'\n",
       "89. 'X2017.05.01.01.00.00'\n",
       "90. 'X2017.06.01.01.00.00'\n",
       "91. 'X2017.07.01.01.00.00'\n",
       "92. 'X2017.08.01.01.00.00'\n",
       "93. 'X2017.09.01.01.00.00'\n",
       "94. 'X2017.10.01.01.00.00'\n",
       "95. 'X2017.11.01.00.00.00'\n",
       "96. 'X2017.12.01.00.00.00'\n",
       "97. 'X2018.01.01.00.00.00'\n",
       "98. 'X2018.02.01.00.00.00'\n",
       "99. 'X2018.03.01.00.00.00'\n",
       "100. 'X2018.04.01.01.00.00'\n",
       "101. 'X2018.05.01.01.00.00'\n",
       "102. 'X2018.06.01.01.00.00'\n",
       "103. 'X2018.07.01.01.00.00'\n",
       "104. 'X2018.08.01.01.00.00'\n",
       "105. 'X2018.09.01.01.00.00'\n",
       "106. 'X2018.10.01.01.00.00'\n",
       "107. 'X2018.11.01.00.00.00'\n",
       "108. 'X2018.12.01.00.00.00'\n",
       "109. 'X2019.01.01.00.00.00'\n",
       "110. 'X2019.02.01.00.00.00'\n",
       "111. 'X2019.03.01.00.00.00'\n",
       "112. 'X2019.04.01.01.00.00'\n",
       "113. 'X2019.05.01.01.00.00'\n",
       "114. 'X2019.06.01.01.00.00'\n",
       "115. 'X2019.07.01.01.00.00'\n",
       "116. 'X2019.08.01.01.00.00'\n",
       "117. 'X2019.09.01.01.00.00'\n",
       "118. 'X2019.10.01.01.00.00'\n",
       "119. 'X2019.11.01.00.00.00'\n",
       "120. 'X2019.12.01.00.00.00'\n",
       "121. 'X2020.01.01.00.00.00'\n",
       "122. 'X2020.02.01.00.00.00'\n",
       "123. 'X2020.03.01.00.00.00'\n",
       "124. 'X2020.04.01.01.00.00'\n",
       "125. 'X2020.05.01.01.00.00'\n",
       "126. 'X2020.06.01.01.00.00'\n",
       "127. 'X2020.07.01.01.00.00'\n",
       "128. 'X2020.08.01.01.00.00'\n",
       "129. 'X2020.09.01.01.00.00'\n",
       "130. 'X2020.10.01.01.00.00'\n",
       "131. 'X2020.11.01.00.00.00'\n",
       "132. 'X2020.12.01.00.00.00'\n",
       "133. 'X2021.01.01.00.00.00'\n",
       "134. 'X2021.02.01.00.00.00'\n",
       "135. 'X2021.03.01.00.00.00'\n",
       "136. 'X2021.04.01.01.00.00'\n",
       "137. 'X2021.05.01.01.00.00'\n",
       "138. 'X2021.06.01.01.00.00'\n",
       "139. 'X2021.07.01.01.00.00'\n",
       "140. 'X2021.08.01.01.00.00'\n",
       "141. 'X2021.09.01.01.00.00'\n",
       "142. 'X2021.10.01.01.00.00'\n",
       "\n",
       "\n"
      ],
      "text/plain": [
       "  [1] \"X2010.01.01.00.00.00\" \"X2010.02.01.00.00.00\" \"X2010.03.01.00.00.00\"\n",
       "  [4] \"X2010.04.01.01.00.00\" \"X2010.05.01.01.00.00\" \"X2010.06.01.01.00.00\"\n",
       "  [7] \"X2010.07.01.01.00.00\" \"X2010.08.01.01.00.00\" \"X2010.09.01.01.00.00\"\n",
       " [10] \"X2010.10.01.01.00.00\" \"X2010.11.01.00.00.00\" \"X2010.12.01.00.00.00\"\n",
       " [13] \"X2011.01.01.00.00.00\" \"X2011.02.01.00.00.00\" \"X2011.03.01.00.00.00\"\n",
       " [16] \"X2011.04.01.01.00.00\" \"X2011.05.01.01.00.00\" \"X2011.06.01.01.00.00\"\n",
       " [19] \"X2011.07.01.01.00.00\" \"X2011.08.01.01.00.00\" \"X2011.09.01.01.00.00\"\n",
       " [22] \"X2011.10.01.01.00.00\" \"X2011.11.01.00.00.00\" \"X2011.12.01.00.00.00\"\n",
       " [25] \"X2012.01.01.00.00.00\" \"X2012.02.01.00.00.00\" \"X2012.03.01.00.00.00\"\n",
       " [28] \"X2012.04.01.01.00.00\" \"X2012.05.01.01.00.00\" \"X2012.06.01.01.00.00\"\n",
       " [31] \"X2012.07.01.01.00.00\" \"X2012.08.01.01.00.00\" \"X2012.09.01.01.00.00\"\n",
       " [34] \"X2012.10.01.01.00.00\" \"X2012.11.01.00.00.00\" \"X2012.12.01.00.00.00\"\n",
       " [37] \"X2013.01.01.00.00.00\" \"X2013.02.01.00.00.00\" \"X2013.03.01.00.00.00\"\n",
       " [40] \"X2013.04.01.01.00.00\" \"X2013.05.01.01.00.00\" \"X2013.06.01.01.00.00\"\n",
       " [43] \"X2013.07.01.01.00.00\" \"X2013.08.01.01.00.00\" \"X2013.09.01.01.00.00\"\n",
       " [46] \"X2013.10.01.01.00.00\" \"X2013.11.01.00.00.00\" \"X2013.12.01.00.00.00\"\n",
       " [49] \"X2014.01.01.00.00.00\" \"X2014.02.01.00.00.00\" \"X2014.03.01.00.00.00\"\n",
       " [52] \"X2014.04.01.01.00.00\" \"X2014.05.01.01.00.00\" \"X2014.06.01.01.00.00\"\n",
       " [55] \"X2014.07.01.01.00.00\" \"X2014.08.01.01.00.00\" \"X2014.09.01.01.00.00\"\n",
       " [58] \"X2014.10.01.01.00.00\" \"X2014.11.01.00.00.00\" \"X2014.12.01.00.00.00\"\n",
       " [61] \"X2015.01.01.00.00.00\" \"X2015.02.01.00.00.00\" \"X2015.03.01.00.00.00\"\n",
       " [64] \"X2015.04.01.01.00.00\" \"X2015.05.01.01.00.00\" \"X2015.06.01.01.00.00\"\n",
       " [67] \"X2015.07.01.01.00.00\" \"X2015.08.01.01.00.00\" \"X2015.09.01.01.00.00\"\n",
       " [70] \"X2015.10.01.01.00.00\" \"X2015.11.01.00.00.00\" \"X2015.12.01.00.00.00\"\n",
       " [73] \"X2016.01.01.00.00.00\" \"X2016.02.01.00.00.00\" \"X2016.03.01.00.00.00\"\n",
       " [76] \"X2016.04.01.01.00.00\" \"X2016.05.01.01.00.00\" \"X2016.06.01.01.00.00\"\n",
       " [79] \"X2016.07.01.01.00.00\" \"X2016.08.01.01.00.00\" \"X2016.09.01.01.00.00\"\n",
       " [82] \"X2016.10.01.01.00.00\" \"X2016.11.01.00.00.00\" \"X2016.12.01.00.00.00\"\n",
       " [85] \"X2017.01.01.00.00.00\" \"X2017.02.01.00.00.00\" \"X2017.03.01.00.00.00\"\n",
       " [88] \"X2017.04.01.01.00.00\" \"X2017.05.01.01.00.00\" \"X2017.06.01.01.00.00\"\n",
       " [91] \"X2017.07.01.01.00.00\" \"X2017.08.01.01.00.00\" \"X2017.09.01.01.00.00\"\n",
       " [94] \"X2017.10.01.01.00.00\" \"X2017.11.01.00.00.00\" \"X2017.12.01.00.00.00\"\n",
       " [97] \"X2018.01.01.00.00.00\" \"X2018.02.01.00.00.00\" \"X2018.03.01.00.00.00\"\n",
       "[100] \"X2018.04.01.01.00.00\" \"X2018.05.01.01.00.00\" \"X2018.06.01.01.00.00\"\n",
       "[103] \"X2018.07.01.01.00.00\" \"X2018.08.01.01.00.00\" \"X2018.09.01.01.00.00\"\n",
       "[106] \"X2018.10.01.01.00.00\" \"X2018.11.01.00.00.00\" \"X2018.12.01.00.00.00\"\n",
       "[109] \"X2019.01.01.00.00.00\" \"X2019.02.01.00.00.00\" \"X2019.03.01.00.00.00\"\n",
       "[112] \"X2019.04.01.01.00.00\" \"X2019.05.01.01.00.00\" \"X2019.06.01.01.00.00\"\n",
       "[115] \"X2019.07.01.01.00.00\" \"X2019.08.01.01.00.00\" \"X2019.09.01.01.00.00\"\n",
       "[118] \"X2019.10.01.01.00.00\" \"X2019.11.01.00.00.00\" \"X2019.12.01.00.00.00\"\n",
       "[121] \"X2020.01.01.00.00.00\" \"X2020.02.01.00.00.00\" \"X2020.03.01.00.00.00\"\n",
       "[124] \"X2020.04.01.01.00.00\" \"X2020.05.01.01.00.00\" \"X2020.06.01.01.00.00\"\n",
       "[127] \"X2020.07.01.01.00.00\" \"X2020.08.01.01.00.00\" \"X2020.09.01.01.00.00\"\n",
       "[130] \"X2020.10.01.01.00.00\" \"X2020.11.01.00.00.00\" \"X2020.12.01.00.00.00\"\n",
       "[133] \"X2021.01.01.00.00.00\" \"X2021.02.01.00.00.00\" \"X2021.03.01.00.00.00\"\n",
       "[136] \"X2021.04.01.01.00.00\" \"X2021.05.01.01.00.00\" \"X2021.06.01.01.00.00\"\n",
       "[139] \"X2021.07.01.01.00.00\" \"X2021.08.01.01.00.00\" \"X2021.09.01.01.00.00\"\n",
       "[142] \"X2021.10.01.01.00.00\""
      ]
     },
     "metadata": {},
     "output_type": "display_data"
    }
   ],
   "source": [
    "names(r_brick)"
   ]
  },
  {
   "cell_type": "markdown",
   "id": "e10a6d70",
   "metadata": {},
   "source": [
    "With this we can access the desired slices either from the position or the name:"
   ]
  },
  {
   "cell_type": "code",
   "execution_count": 24,
   "id": "0e8f10ee",
   "metadata": {},
   "outputs": [
    {
     "data": {
      "text/html": [
       "<ol class=list-inline>\n",
       "\t<li>48</li>\n",
       "\t<li>56</li>\n",
       "\t<li>1</li>\n",
       "</ol>\n"
      ],
      "text/latex": [
       "\\begin{enumerate*}\n",
       "\\item 48\n",
       "\\item 56\n",
       "\\item 1\n",
       "\\end{enumerate*}\n"
      ],
      "text/markdown": [
       "1. 48\n",
       "2. 56\n",
       "3. 1\n",
       "\n",
       "\n"
      ],
      "text/plain": [
       "[1] 48 56  1"
      ]
     },
     "metadata": {},
     "output_type": "display_data"
    },
    {
     "data": {
      "image/png": "[encoded data removed]",
      "text/plain": [
       "Plot with title \"\""
      ]
     },
     "metadata": {},
     "output_type": "display_data"
    }
   ],
   "source": [
    "# Index by position: first slice of the dataset\n",
    "r_jan_2010 <- r_brick[[1]]\n",
    "dim(r_jan_2010) # print the dimensions to see if its really just one...\n",
    "plot(r_jan_2010)"
   ]
  },
  {
   "cell_type": "code",
   "execution_count": 25,
   "id": "8ac1d65c",
   "metadata": {},
   "outputs": [
    {
     "data": {
      "text/html": [
       "<ol class=list-inline>\n",
       "\t<li>48</li>\n",
       "\t<li>56</li>\n",
       "\t<li>1</li>\n",
       "</ol>\n"
      ],
      "text/latex": [
       "\\begin{enumerate*}\n",
       "\\item 48\n",
       "\\item 56\n",
       "\\item 1\n",
       "\\end{enumerate*}\n"
      ],
      "text/markdown": [
       "1. 48\n",
       "2. 56\n",
       "3. 1\n",
       "\n",
       "\n"
      ],
      "text/plain": [
       "[1] 48 56  1"
      ]
     },
     "metadata": {},
     "output_type": "display_data"
    },
    {
     "data": {
      "image/png": "[encoded data removed]",
      "text/plain": [
       "Plot with title \"\""
      ]
     },
     "metadata": {},
     "output_type": "display_data"
    }
   ],
   "source": [
    "# Index by name\n",
    "r_jan_2010 <- r_brick[[\"X2010.01.01.00.00.00\"]]\n",
    "dim(r_jan_2010) # print the dimensions to see if its really just one...\n",
    "plot(r_jan_2010)"
   ]
  },
  {
   "cell_type": "markdown",
   "id": "9c4ed3fc",
   "metadata": {},
   "source": [
    "This way we can extract one or more slices of the raster brick. Now, it is also possible to index using a vector that stores the names or position of the desired slices. This is what we did for the monthly and yearly average temperature maps, but here is another example. "
   ]
  },
  {
   "cell_type": "code",
   "execution_count": 26,
   "id": "16cd76cf",
   "metadata": {},
   "outputs": [
    {
     "data": {
      "text/html": [
       "<ol class=list-inline>\n",
       "\t<li>1</li>\n",
       "\t<li>13</li>\n",
       "\t<li>25</li>\n",
       "\t<li>37</li>\n",
       "\t<li>49</li>\n",
       "\t<li>61</li>\n",
       "\t<li>73</li>\n",
       "\t<li>85</li>\n",
       "\t<li>97</li>\n",
       "\t<li>109</li>\n",
       "\t<li>121</li>\n",
       "\t<li>133</li>\n",
       "</ol>\n"
      ],
      "text/latex": [
       "\\begin{enumerate*}\n",
       "\\item 1\n",
       "\\item 13\n",
       "\\item 25\n",
       "\\item 37\n",
       "\\item 49\n",
       "\\item 61\n",
       "\\item 73\n",
       "\\item 85\n",
       "\\item 97\n",
       "\\item 109\n",
       "\\item 121\n",
       "\\item 133\n",
       "\\end{enumerate*}\n"
      ],
      "text/markdown": [
       "1. 1\n",
       "2. 13\n",
       "3. 25\n",
       "4. 37\n",
       "5. 49\n",
       "6. 61\n",
       "7. 73\n",
       "8. 85\n",
       "9. 97\n",
       "10. 109\n",
       "11. 121\n",
       "12. 133\n",
       "\n",
       "\n"
      ],
      "text/plain": [
       " [1]   1  13  25  37  49  61  73  85  97 109 121 133"
      ]
     },
     "metadata": {},
     "output_type": "display_data"
    }
   ],
   "source": [
    "# create a vector of the positions of the slices. In this case every January (Slice 1, 13, 25, etc)\n",
    "vec <- seq(1, 142, 12)\n",
    "vec"
   ]
  },
  {
   "cell_type": "code",
   "execution_count": 27,
   "id": "43a78414",
   "metadata": {},
   "outputs": [
    {
     "data": {
      "text/html": [
       "<ol class=list-inline>\n",
       "\t<li>48</li>\n",
       "\t<li>56</li>\n",
       "\t<li>12</li>\n",
       "</ol>\n"
      ],
      "text/latex": [
       "\\begin{enumerate*}\n",
       "\\item 48\n",
       "\\item 56\n",
       "\\item 12\n",
       "\\end{enumerate*}\n"
      ],
      "text/markdown": [
       "1. 48\n",
       "2. 56\n",
       "3. 12\n",
       "\n",
       "\n"
      ],
      "text/plain": [
       "[1] 48 56 12"
      ]
     },
     "metadata": {},
     "output_type": "display_data"
    }
   ],
   "source": [
    "# extract the slices using the vector \"vec\" and assign to object r_brick_jan\n",
    "r_brick_jan <- r_brick[[vec]]\n",
    "dim(r_brick_jan)"
   ]
  },
  {
   "cell_type": "markdown",
   "id": "8a9137d3",
   "metadata": {},
   "source": [
    "This gives us a brick with the data of January for the years 2010 - 2021. We could calculate the maximum January temperature in the past 12 years by calling the max function on the january brick. By doing so we aggregate the stack to a simple raster with dimensions 48x56x1"
   ]
  },
  {
   "cell_type": "code",
   "execution_count": 28,
   "id": "67dc8d53",
   "metadata": {},
   "outputs": [
    {
     "data": {
      "text/html": [
       "<ol class=list-inline>\n",
       "\t<li>48</li>\n",
       "\t<li>56</li>\n",
       "\t<li>1</li>\n",
       "</ol>\n"
      ],
      "text/latex": [
       "\\begin{enumerate*}\n",
       "\\item 48\n",
       "\\item 56\n",
       "\\item 1\n",
       "\\end{enumerate*}\n"
      ],
      "text/markdown": [
       "1. 48\n",
       "2. 56\n",
       "3. 1\n",
       "\n",
       "\n"
      ],
      "text/plain": [
       "[1] 48 56  1"
      ]
     },
     "metadata": {},
     "output_type": "display_data"
    },
    {
     "data": {
      "image/png": "[encoded data removed]",
      "text/plain": [
       "Plot with title \"\""
      ]
     },
     "metadata": {},
     "output_type": "display_data"
    }
   ],
   "source": [
    "r_brick_jan_max <- max(r_brick_jan)\n",
    "dim(r_brick_jan_max)\n",
    "plot(r_brick_jan_max)"
   ]
  },
  {
   "cell_type": "markdown",
   "id": "3286503f",
   "metadata": {},
   "source": [
    "A great portion of the processing in this practical was to access the bits and pieces (in space and time) of interest. When you revisit the code, run it line by line and try to understand what happens. Basically it is always either:\n",
    "- Indexing: Creating a subset (space and/or time) of your data\n",
    "- Conduct operations on the data: Use of functions for specific tasks (i.e. calculations, plotting, renameing...) You can recognise functions by the () brackets, i.e. sum()."
   ]
  },
  {
   "cell_type": "markdown",
   "id": "67598dcc",
   "metadata": {},
   "source": [
    "## Troubleshooting\n",
    "Working with R and other programming languages can be frustrating at times. Errors are part of the process. Nobody writes flawless code that works on the first attempt. Writing a script is a try-and-error process, which is why it is important to check your data regularily. Has it the correct number of dimensions? Are the values resonable? It is quite useful to read the error messages - they point to the source of the problem. Most errors can be grouped into 3 categories:\n",
    "- wrong names\n",
    "- package not loaded\n",
    "- wrong use of function\n",
    "- errors in input data"
   ]
  },
  {
   "cell_type": "code",
   "execution_count": 29,
   "id": "2f80edc5",
   "metadata": {},
   "outputs": [
    {
     "ename": "ERROR",
     "evalue": "Error in eval(expr, envir, enclos): Objekt 've' nicht gefunden\n",
     "output_type": "error",
     "traceback": [
      "Error in eval(expr, envir, enclos): Objekt 've' nicht gefunden\nTraceback:\n"
     ]
    }
   ],
   "source": [
    "# 1. wrong names\n",
    "# Most common error and easy to fix. A few examples:\n",
    "vec <- c(1:4)\n",
    "sum(ve)"
   ]
  },
  {
   "cell_type": "code",
   "execution_count": 30,
   "id": "1f79e378",
   "metadata": {},
   "outputs": [
    {
     "ename": "ERROR",
     "evalue": "Error in su(vec): konnte Funktion \"su\" nicht finden\n",
     "output_type": "error",
     "traceback": [
      "Error in su(vec): konnte Funktion \"su\" nicht finden\nTraceback:\n"
     ]
    }
   ],
   "source": [
    "su(vec)"
   ]
  },
  {
   "cell_type": "code",
   "execution_count": 32,
   "id": "6aba8fc1",
   "metadata": {},
   "outputs": [
    {
     "ename": "ERROR",
     "evalue": "Error in ggplot(): konnte Funktion \"ggplot\" nicht finden\n",
     "output_type": "error",
     "traceback": [
      "Error in ggplot(): konnte Funktion \"ggplot\" nicht finden\nTraceback:\n"
     ]
    }
   ],
   "source": [
    "# 2. Package not loaded\n",
    "ggplot()"
   ]
  },
  {
   "cell_type": "code",
   "execution_count": 33,
   "id": "eef948c6",
   "metadata": {},
   "outputs": [
    {
     "ename": "ERROR",
     "evalue": "Error in append(a): Argument \"values\" fehlt (ohne Standardwert)\n",
     "output_type": "error",
     "traceback": [
      "Error in append(a): Argument \"values\" fehlt (ohne Standardwert)\nTraceback:\n",
      "1. append(a)"
     ]
    }
   ],
   "source": [
    "# 3. Wrong use of function\n",
    "\n",
    "# suppose we want to combine 2 vectors to one larger vector\n",
    "# we can do this with the function append() which requires two vectors as input\n",
    "a <- c(1:4)\n",
    "b <- c(8:12)\n",
    "\n",
    "# wrong use of function\n",
    "c <- append(a)"
   ]
  },
  {
   "cell_type": "code",
   "execution_count": 34,
   "id": "fae81ca0",
   "metadata": {},
   "outputs": [
    {
     "data": {
      "text/html": [
       "<ol class=list-inline>\n",
       "\t<li>1</li>\n",
       "\t<li>2</li>\n",
       "\t<li>3</li>\n",
       "\t<li>4</li>\n",
       "\t<li>8</li>\n",
       "\t<li>9</li>\n",
       "\t<li>10</li>\n",
       "\t<li>11</li>\n",
       "\t<li>12</li>\n",
       "</ol>\n"
      ],
      "text/latex": [
       "\\begin{enumerate*}\n",
       "\\item 1\n",
       "\\item 2\n",
       "\\item 3\n",
       "\\item 4\n",
       "\\item 8\n",
       "\\item 9\n",
       "\\item 10\n",
       "\\item 11\n",
       "\\item 12\n",
       "\\end{enumerate*}\n"
      ],
      "text/markdown": [
       "1. 1\n",
       "2. 2\n",
       "3. 3\n",
       "4. 4\n",
       "5. 8\n",
       "6. 9\n",
       "7. 10\n",
       "8. 11\n",
       "9. 12\n",
       "\n",
       "\n"
      ],
      "text/plain": [
       "[1]  1  2  3  4  8  9 10 11 12"
      ]
     },
     "metadata": {},
     "output_type": "display_data"
    }
   ],
   "source": [
    "# right use\n",
    "c <- append(a,b)\n",
    "c"
   ]
  },
  {
   "cell_type": "code",
   "execution_count": 35,
   "id": "0ceaa757",
   "metadata": {},
   "outputs": [],
   "source": [
    "# always helpful for this kind of error is ?name_of_function()\n",
    "?append # this will give you a description of the function\n"
   ]
  },
  {
   "cell_type": "code",
   "execution_count": 36,
   "id": "cd13a4f2",
   "metadata": {},
   "outputs": [
    {
     "ename": "ERROR",
     "evalue": "Error in a + b: nicht-numerisches Argument für binären Operator\n",
     "output_type": "error",
     "traceback": [
      "Error in a + b: nicht-numerisches Argument für binären Operator\nTraceback:\n"
     ]
    }
   ],
   "source": [
    "# 3. Wrong input data\n",
    "\n",
    "# this type can be the most tricky to figure out. Something is wrong with your input object and you \n",
    "# need to revisit the steps where you created/manipulated the object. This error is mostly related to the problems with \n",
    "# the values, type or the size of the object\n",
    "\n",
    "# Issues with data type \n",
    "a <- c(1:4)\n",
    "b <- c(\"A\", \"B\", \"C\", \"D\")\n",
    "c <- (a + b) / 2"
   ]
  },
  {
   "cell_type": "markdown",
   "id": "8452a09d",
   "metadata": {},
   "source": [
    "If you encounter an error assess it systematically. Is everything spelled correctly? Is the function loaded? Does the input data make sense? Is the function used correctly (remember: ?name_of_function()). If that doesn't help google the error message - you are never the first with the problem. "
   ]
  }
 ],
 "metadata": {
  "kernelspec": {
   "display_name": "R",
   "language": "R",
   "name": "ir"
  },
  "language_info": {
   "codemirror_mode": "r",
   "file_extension": ".r",
   "mimetype": "text/x-r-source",
   "name": "R",
   "pygments_lexer": "r",
   "version": "3.6.1"
  }
 },
 "nbformat": 4,
 "nbformat_minor": 5
}
